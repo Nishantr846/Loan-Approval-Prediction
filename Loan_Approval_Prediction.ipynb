{
 "cells": [
  {
   "cell_type": "code",
   "execution_count": 5,
   "id": "d96ab45c-d5f5-48fa-b3db-375c8fd18312",
   "metadata": {},
   "outputs": [
    {
     "name": "stdout",
     "output_type": "stream",
     "text": [
      "Loan Not Approved\n"
     ]
    },
    {
     "name": "stderr",
     "output_type": "stream",
     "text": [
      "C:\\ProgramData\\anaconda3\\Lib\\site-packages\\sklearn\\base.py:439: UserWarning: X does not have valid feature names, but StandardScaler was fitted with feature names\n",
      "  warnings.warn(\n"
     ]
    }
   ],
   "source": [
    "# Importing all the dependencies\n",
    "import numpy as np\n",
    "import pandas as pd\n",
    "from sklearn.model_selection import train_test_split\n",
    "from sklearn import svm\n",
    "from sklearn.preprocessing import StandardScaler\n",
    "\n",
    "# Step 1: Data Collection and Pre-processing\n",
    "# Load the dataset\n",
    "loan_dataset = pd.read_csv(r\"C:\\Users\\Nishant\\Desktop\\ML\\Loan Approval Prediction\\data.csv\")\n",
    "\n",
    "# Dropping rows with missing values\n",
    "loan_dataset = loan_dataset.dropna()\n",
    "\n",
    "# Label encoding for categorical columns\n",
    "loan_dataset.replace({\"Loan_Status\": {'N': 0, 'Y': 1}}, inplace=True)\n",
    "loan_dataset.replace(to_replace='3+', value='4', inplace=True)\n",
    "loan_dataset.replace({\n",
    "    'Married': {'No': 0, 'Yes': 1},\n",
    "    'Gender': {'Male': 1, 'Female': 0},\n",
    "    'Self_Employed': {'No': 0, 'Yes': 1},\n",
    "    'Property_Area': {'Rural': 0, 'Semiurban': 1, 'Urban': 2},\n",
    "    'Education': {'Graduate': 1, 'Not Graduate': 0}\n",
    "}, inplace=True)\n",
    "\n",
    "# Separating the features and the target\n",
    "X = loan_dataset.drop(columns=['Loan_ID', 'Loan_Status'], axis=1)\n",
    "Y = loan_dataset['Loan_Status']\n",
    "\n",
    "# Step 2: Train-Test Split\n",
    "X_train, X_test, Y_train, Y_test = train_test_split(X, Y, test_size=0.1, stratify=Y, random_state=2)\n",
    "\n",
    "# Step 3: Feature Scaling\n",
    "scaler = StandardScaler()\n",
    "X_train = scaler.fit_transform(X_train)\n",
    "X_test = scaler.transform(X_test)\n",
    "\n",
    "# Step 4: Training the SVM Model\n",
    "classifier = svm.SVC(kernel='linear')\n",
    "classifier.fit(X_train, Y_train)\n",
    "\n",
    "# Step 5: Predictive System\n",
    "def predict_loan_status(input_data):\n",
    "    \"\"\"\n",
    "    Predict loan approval status based on input data.\n",
    "    :param input_data: List of feature values\n",
    "    :return: Prediction result as a string\n",
    "    \"\"\"\n",
    "    input_data_np = np.asarray(input_data).reshape(1, -1)  # Convert input data to a numpy array\n",
    "    input_data_scaled = scaler.transform(input_data_np)   # Scale the input data\n",
    "    prediction = classifier.predict(input_data_scaled)\n",
    "    return \"Loan Approved\" if prediction[0] == 1 else \"Loan Not Approved\"\n",
    "\n",
    "# Example Prediction\n",
    "example_data = [1,1,4,1,0,3036,2504,158,360,0,1] \n",
    "result = predict_loan_status(example_data)\n",
    "print(result)\n"
   ]
  },
  {
   "cell_type": "code",
   "execution_count": null,
   "id": "da6ac339-b804-4407-babf-806ed9e66ffc",
   "metadata": {},
   "outputs": [],
   "source": []
  }
 ],
 "metadata": {
  "kernelspec": {
   "display_name": "Python 3 (ipykernel)",
   "language": "python",
   "name": "python3"
  },
  "language_info": {
   "codemirror_mode": {
    "name": "ipython",
    "version": 3
   },
   "file_extension": ".py",
   "mimetype": "text/x-python",
   "name": "python",
   "nbconvert_exporter": "python",
   "pygments_lexer": "ipython3",
   "version": "3.11.7"
  }
 },
 "nbformat": 4,
 "nbformat_minor": 5
}
